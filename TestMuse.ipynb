{
 "cells": [
  {
   "cell_type": "code",
   "execution_count": null,
   "metadata": {
    "id": "uqh0RYhVZM3p",
    "jupyter": {
     "source_hidden": true
    },
    "tags": []
   },
   "outputs": [],
   "source": [
    "!git clone -q https://github.com/marius311/muse-wl/\n",
    "!pip install --upgrade \"poetry==1.2.0b2\"\n",
    "!(cd muse-wl && POETRY_VIRTUALENVS_IN_PROJECT=true poetry install)\n",
    "import sys, os.path as osp\n",
    "sys.path = [osp.abspath(\"muse-wl/.venv/lib/python3.7/site-packages\")] + sys.path"
   ]
  },
  {
   "cell_type": "code",
   "execution_count": 1,
   "metadata": {
    "colab": {
     "base_uri": "https://localhost:8080/"
    },
    "id": "nwWGR8-o7bJs",
    "outputId": "4e7df2e6-c13a-4b86-e2a6-d3b7bf5a244e"
   },
   "outputs": [
    {
     "name": "stdout",
     "output_type": "stream",
     "text": [
      "%pylab is deprecated, use %matplotlib inline and import the required libraries.\n",
      "Populating the interactive namespace from numpy and matplotlib\n"
     ]
    }
   ],
   "source": [
    "%load_ext autoreload\n",
    "%autoreload 2\n",
    "%pylab inline"
   ]
  },
  {
   "cell_type": "code",
   "execution_count": 2,
   "metadata": {
    "id": "YLfPZIkdZM3s"
   },
   "outputs": [],
   "source": [
    "%config InlineBackend.print_figure_kwargs = {'bbox_inches': 'tight', 'dpi': 90}"
   ]
  },
  {
   "cell_type": "code",
   "execution_count": 3,
   "metadata": {
    "colab": {
     "base_uri": "https://localhost:8080/"
    },
    "id": "kUo5x565ZM3s",
    "outputId": "2f30b4b1-20dc-40f0-b05c-802ad6a13291"
   },
   "outputs": [],
   "source": [
    "import jax\n",
    "import jax.numpy as jnp\n",
    "import muse_inference\n",
    "from muse_inference.jax import JittableJaxMuseProblem, JaxMuseProblem\n",
    "from muse_inference import MuseResult\n",
    "import jax_cosmo as jc\n",
    "\n",
    "import numpyro\n",
    "from numpyro.handlers import seed, trace, condition\n",
    "import numpyro.distributions as dist"
   ]
  },
  {
   "cell_type": "markdown",
   "metadata": {
    "id": "ICY-KauZZM3s"
   },
   "source": [
    "Check using expected device:"
   ]
  },
  {
   "cell_type": "code",
   "execution_count": 4,
   "metadata": {
    "colab": {
     "base_uri": "https://localhost:8080/"
    },
    "id": "IBvAJozoZM3t",
    "outputId": "0bc8d37f-38c7-4c4a-8b70-f6bea00156c1"
   },
   "outputs": [
    {
     "name": "stdout",
     "output_type": "stream",
     "text": [
      "gpu\n"
     ]
    }
   ],
   "source": [
    "from jax.lib import xla_bridge\n",
    "print(xla_bridge.get_backend().platform)"
   ]
  },
  {
   "cell_type": "markdown",
   "metadata": {
    "id": "y7HG8MSONogK"
   },
   "source": [
    "# Defining a model"
   ]
  },
  {
   "cell_type": "code",
   "execution_count": 5,
   "metadata": {
    "id": "TwN5ISeJNbdm"
   },
   "outputs": [],
   "source": [
    "def make_power_map(pk_fn, N, field_size, zero_freq_val=0.0):\n",
    "  k = 2*jnp.pi*jnp.fft.fftfreq(N, d=field_size / N)\n",
    "  kcoords = jnp.meshgrid(k,k)\n",
    "  k = jnp.sqrt(kcoords[0]**2 + kcoords[1]**2)\n",
    "  ps_map = pk_fn(k)\n",
    "  ps_map = ps_map.at[0,0].set(zero_freq_val)\n",
    "  return ps_map * (N / field_size)**2\n",
    "\n",
    "def model(N=64,                # number of pixels on the map\n",
    "          map_size=10,         # map size in deg.\n",
    "          gal_per_arcmin2=30,   \n",
    "          sigma_e=0.2):      \n",
    "    \n",
    "    pix_area = (map_size * 60 / N)**2 # arcmin2 \n",
    "    map_size = map_size / 180 * jnp.pi    # radians\n",
    "\n",
    "    # Sampling cosmology\n",
    "    omega_c = numpyro.sample('omega_c', dist.Normal(0., 1.0)) * 0.05 + 0.3\n",
    "    sigma_8 = numpyro.sample('sigma_8', dist.Normal(0., 1.0)) * 0.05 + 0.8\n",
    "    \n",
    "    cosmo = jc.Planck15(Omega_c=omega_c, sigma8=sigma_8)\n",
    "    # Creating a given redshift distribution\n",
    "    pz = jc.redshift.smail_nz(0.5, 2., 1.0)\n",
    "    tracer = jc.probes.WeakLensing([pz])\n",
    "    \n",
    "    # Defining the function that will compute the power spectrum of the field\n",
    "    # Create an interpolation array for the cls to avoid far too many computations\n",
    "    ell_tab = jnp.logspace(0, 4.5, 128)\n",
    "    cell_tab = jc.angular_cl.angular_cl(cosmo, ell_tab, [tracer])[0]\n",
    "    P = lambda k: jc.scipy.interpolate.interp(k.flatten(), ell_tab, cell_tab).reshape(k.shape)\n",
    "    # Sampling latent variables\n",
    "    z = numpyro.sample('z', dist.MultivariateNormal(loc=jnp.zeros((N,N)), precision_matrix=jnp.eye(N)))\n",
    "    # Convolving by the power spectrum\n",
    "    field = jnp.fft.ifft2(jnp.fft.fft2(z) * \n",
    "                          jnp.sqrt(make_power_map(P, N, map_size))).real\n",
    "    \n",
    "    # Adding \"observational noise\"\n",
    "    x = numpyro.sample('x', dist.Independent(dist.Normal(field, sigma_e/jnp.sqrt(gal_per_arcmin2 * pix_area)), 2))\n",
    "    \n",
    "    return x"
   ]
  },
  {
   "cell_type": "code",
   "execution_count": 6,
   "metadata": {
    "colab": {
     "base_uri": "https://localhost:8080/"
    },
    "id": "WbbR5LmkNbV_",
    "outputId": "cf66ec62-64e0-497e-9a32-c1e91db56848"
   },
   "outputs": [
    {
     "name": "stderr",
     "output_type": "stream",
     "text": [
      "/home/francois/.local/lib/python3.10/site-packages/jax/_src/numpy/lax_numpy.py:4457: UserWarning: Explicitly requested dtype <class 'jax.numpy.int64'> requested in astype is not available, and will be truncated to dtype int32. To enable more dtypes, set the jax_enable_x64 configuration option or the JAX_ENABLE_X64 shell environment variable. See https://github.com/google/jax#current-gotchas for more.\n",
      "  lax_internal._check_user_dtype_supported(dtype, \"astype\")\n"
     ]
    }
   ],
   "source": [
    "# Create our fiducial observations\n",
    "fiducial_model = condition(model, {'omega_c': 0., 'sigma_8': 0.})\n",
    "sample_map_fiducial = seed(fiducial_model, jax.random.PRNGKey(42))\n",
    "m_data = sample_map_fiducial()"
   ]
  },
  {
   "cell_type": "code",
   "execution_count": 7,
   "metadata": {
    "colab": {
     "base_uri": "https://localhost:8080/",
     "height": 350
    },
    "id": "HxubZYImNbTl",
    "outputId": "47c9a0aa-725a-4d67-b126-135a06e5c1a6"
   },
   "outputs": [
    {
     "data": {
      "text/plain": [
       "<matplotlib.colorbar.Colorbar at 0x7f20d0138700>"
      ]
     },
     "execution_count": 7,
     "metadata": {},
     "output_type": "execute_result"
    },
    {
     "data": {
      "image/png": "[encoded data removed]",
      "text/plain": [
       "<Figure size 432x288 with 2 Axes>"
      ]
     },
     "metadata": {
      "needs_background": "light"
     },
     "output_type": "display_data"
    }
   ],
   "source": [
    "imshow(m_data, extent=(0,10,0,10))\n",
    "colorbar()"
   ]
  },
  {
   "cell_type": "code",
   "execution_count": 8,
   "metadata": {
    "id": "nICLskdBNbQi"
   },
   "outputs": [],
   "source": [
    "@jax.jit\n",
    "def log_likelihood(x, z, theta):\n",
    "  oc = theta[0]\n",
    "  s8 = theta[1]\n",
    "\n",
    "  cond_model = condition(model, {'omega_c': oc, 'sigma_8': s8, 'x': x, \n",
    "                                 'z': z})\n",
    "  model_trace = trace(cond_model).get_trace()\n",
    "\n",
    "  return model_trace['x']['fn'].log_prob(model_trace['x']['value'])\n",
    "\n",
    "@jax.jit\n",
    "def log_prior(theta):\n",
    "  oc = theta[0]\n",
    "  s8 = theta[1]\n",
    "  log_prob = dist.Normal(0., 1.).log_prob(oc) + dist.Normal(0., 1.).log_prob(s8) \n",
    "  return log_prob\n",
    "\n",
    "@jax.jit \n",
    "def sample(theta, key):\n",
    "  oc = theta[0]\n",
    "  s8 = theta[1]\n",
    "  cond_model = condition(seed(model, key), {'omega_c': oc, 'sigma_8': s8})\n",
    "  model_trace = trace(cond_model).get_trace()\n",
    "  return model_trace['x']['value'], model_trace['z']['value']"
   ]
  },
  {
   "cell_type": "code",
   "execution_count": 9,
   "metadata": {
    "id": "QQIAJMgsNbNv"
   },
   "outputs": [],
   "source": [
    "class LensingProblem(JittableJaxMuseProblem):\n",
    "\n",
    "    def sample_x_z(self, rng, θ):\n",
    "        return sample(jnp.array(θ), rng)\n",
    "\n",
    "    def logLike(self, x, z, θ):\n",
    "        return log_likelihood(x, z, jnp.array(θ))\n",
    "\n",
    "    def logPrior(self, θ):\n",
    "        return log_prior(θ)"
   ]
  },
  {
   "cell_type": "code",
   "execution_count": 10,
   "metadata": {
    "id": "nkLNaExLSJOx"
   },
   "outputs": [],
   "source": [
    "θ_true = 0., 0."
   ]
  },
  {
   "cell_type": "code",
   "execution_count": 11,
   "metadata": {
    "colab": {
     "base_uri": "https://localhost:8080/"
    },
    "id": "_h5VMVbHNbKy",
    "outputId": "c3190349-edbf-4811-95ad-4ede52e0cfad"
   },
   "outputs": [],
   "source": [
    "prob = LensingProblem()\n",
    "(x, z) = prob.sample_x_z(jax.random.PRNGKey(0), θ_true)\n",
    "prob.x = x"
   ]
  },
  {
   "cell_type": "markdown",
   "metadata": {
    "id": "WtDkw0hfZM3w"
   },
   "source": [
    "# Sanity check"
   ]
  },
  {
   "cell_type": "markdown",
   "metadata": {
    "id": "sJjbnlICZM3x"
   },
   "source": [
    "Note: if I decrease to `z_tol=1e-2` or lower, I get a `history.status=4` which means saddle point?? Is this multi-modal? Or perhaps an issue with the phase being periodic?"
   ]
  },
  {
   "cell_type": "code",
   "execution_count": 12,
   "metadata": {
    "colab": {
     "base_uri": "https://localhost:8080/"
    },
    "id": "I3p6yLOZZM3x",
    "outputId": "3cfd737b-32d8-4659-8f90-dd5b45d2465b"
   },
   "outputs": [],
   "source": [
    "MAP = prob.z_MAP_and_score(x, z, θ_true, z_tol=1e-1)"
   ]
  },
  {
   "cell_type": "code",
   "execution_count": 13,
   "metadata": {
    "colab": {
     "base_uri": "https://localhost:8080/"
    },
    "id": "aF0dfJgvZM3x",
    "outputId": "cf6c2512-3b2d-4655-959f-0208121f96f5"
   },
   "outputs": [
    {
     "data": {
      "text/plain": [
       "DeviceArray(True, dtype=bool)"
      ]
     },
     "execution_count": 13,
     "metadata": {},
     "output_type": "execute_result"
    }
   ],
   "source": [
    "MAP.history.success"
   ]
  },
  {
   "cell_type": "code",
   "execution_count": 14,
   "metadata": {
    "colab": {
     "base_uri": "https://localhost:8080/"
    },
    "id": "GXki3rHJZM3x",
    "outputId": "40f72d60-e960-446e-ec8b-861a2c293983"
   },
   "outputs": [
    {
     "data": {
      "text/plain": [
       "DeviceArray(0, dtype=int32, weak_type=True)"
      ]
     },
     "execution_count": 14,
     "metadata": {},
     "output_type": "execute_result"
    }
   ],
   "source": [
    "MAP.history.status"
   ]
  },
  {
   "cell_type": "code",
   "execution_count": 15,
   "metadata": {
    "colab": {
     "base_uri": "https://localhost:8080/",
     "height": 636
    },
    "id": "FDnTzA-WZM3x",
    "outputId": "99116e93-55f2-473e-ff46-4e062abb0435"
   },
   "outputs": [
    {
     "data": {
      "text/plain": [
       "Text(0.5, 1.0, 'MAP ')"
      ]
     },
     "execution_count": 15,
     "metadata": {},
     "output_type": "execute_result"
    },
    {
     "data": {
      "image/png": "[encoded data removed]",
      "text/plain": [
       "<Figure size 576x576 with 2 Axes>"
      ]
     },
     "metadata": {
      "needs_background": "light"
     },
     "output_type": "display_data"
    }
   ],
   "source": [
    "figure(figsize=(8,8))\n",
    "subplot(121)\n",
    "imshow(z)\n",
    "title(\"true z\")\n",
    "subplot(122)\n",
    "imshow(MAP.z)\n",
    "title(\"MAP \")"
   ]
  },
  {
   "cell_type": "markdown",
   "metadata": {
    "id": "Lw_tlFCnZM3x"
   },
   "source": [
    "# Get covariance"
   ]
  },
  {
   "cell_type": "markdown",
   "metadata": {
    "id": "0dsIl8oNZM3y"
   },
   "source": [
    "Compute the covariance evaluated at the truth, which involves getting the $J$ and $H$ matrices."
   ]
  },
  {
   "cell_type": "code",
   "execution_count": 16,
   "metadata": {
    "id": "OJwxC8SYZM3y"
   },
   "outputs": [],
   "source": [
    "result = MuseResult()\n",
    "result.θ = θ_true;"
   ]
  },
  {
   "cell_type": "code",
   "execution_count": 17,
   "metadata": {
    "id": "_nnyjFt3ZM3y",
    "outputId": "bb4b88d4-8bcf-4d40-ad47-5265b69729e4"
   },
   "outputs": [
    {
     "name": "stderr",
     "output_type": "stream",
     "text": [
      "get_J: 100%|██████████████████████████████████████████████████████████████████████████████████████| 100/100 [01:09<00:00,  1.43it/s]\n"
     ]
    }
   ],
   "source": [
    "prob.get_J(\n",
    "    result, \n",
    "    nsims = 100, \n",
    "    progress = True, \n",
    "    z_tol = 1e-1, \n",
    "    rng = jax.random.PRNGKey(0)\n",
    ");"
   ]
  },
  {
   "cell_type": "code",
   "execution_count": 18,
   "metadata": {
    "id": "jJT1AnRoZM3y",
    "outputId": "046019ae-3e8a-4f68-9ec7-48c57732af30"
   },
   "outputs": [
    {
     "name": "stderr",
     "output_type": "stream",
     "text": [
      "get_H: 100%|████████████████████████████████████████████████████████████████████████████████████████| 50/50 [00:06<00:00,  7.22it/s]\n"
     ]
    }
   ],
   "source": [
    "prob.get_H(\n",
    "    result, \n",
    "    θ = θ_true, \n",
    "    step = 0.1, \n",
    "    nsims = 10, \n",
    "    progress = True, \n",
    "    z_tol = 1e-1, \n",
    "    rng = jax.random.PRNGKey(0)\n",
    ");"
   ]
  },
  {
   "cell_type": "markdown",
   "metadata": {
    "id": "vSgvYGAnZM3y"
   },
   "source": [
    "Looks like very little extra constraint beyond the prior, is that expected for this small map maybe?:"
   ]
  },
  {
   "cell_type": "code",
   "execution_count": 19,
   "metadata": {
    "id": "SRQbY9CRZM3y",
    "outputId": "c97933cf-b3ca-4aea-8f28-050643db131a"
   },
   "outputs": [
    {
     "data": {
      "text/plain": [
       "array([0.48773837, 0.6642547 ], dtype=float32)"
      ]
     },
     "execution_count": 19,
     "metadata": {},
     "output_type": "execute_result"
    }
   ],
   "source": [
    "sqrt(diag(result.Σ))"
   ]
  },
  {
   "cell_type": "markdown",
   "metadata": {
    "id": "MJNWl94wZM3y"
   },
   "source": [
    "Just to visualize the correlation:"
   ]
  },
  {
   "cell_type": "code",
   "execution_count": 22,
   "metadata": {
    "id": "MA2NdO0zZM3z",
    "outputId": "37806ac1-c67a-43e4-d1e0-883a00f95671"
   },
   "outputs": [
    {
     "data": {
      "text/plain": [
       "Text(0, 0.5, '$\\\\sigma_8$')"
      ]
     },
     "execution_count": 22,
     "metadata": {},
     "output_type": "execute_result"
    },
    {
     "data": {
      "image/png": "[encoded data removed]",
      "text/plain": [
       "<Figure size 432x288 with 1 Axes>"
      ]
     },
     "metadata": {
      "needs_background": "light"
     },
     "output_type": "display_data"
    }
   ],
   "source": [
    "Z, X, Y = histogram2d(*result.dist.rvs(1000000).T, bins=128, density=True)\n",
    "contourf((X[1:]+X[:-1])/2 * 0.05 +0.3, (Y[1:]+Y[:-1])/2 * 0.05 + 0.8, Z)\n",
    "xlabel(r\"$\\omega_c$\")\n",
    "ylabel(r\"$\\sigma_8$\")"
   ]
  },
  {
   "cell_type": "markdown",
   "metadata": {
    "id": "Tz57cYGfZM3z"
   },
   "source": [
    "# Get estimate"
   ]
  },
  {
   "cell_type": "markdown",
   "metadata": {
    "id": "UEnDbMLHZM3z"
   },
   "source": [
    "Run the estimate. Not really finding convergence yet."
   ]
  },
  {
   "cell_type": "code",
   "execution_count": 23,
   "metadata": {
    "id": "tlepGViySSWd",
    "outputId": "1deacb98-5c26-4b77-cbac-2994b71d565a"
   },
   "outputs": [
    {
     "name": "stderr",
     "output_type": "stream",
     "text": [
      "MUSE: 100%|███████████████████████████████████████████████████████████████████████████████████████| 650/650 [02:01<00:00,  5.33it/s]\n"
     ]
    }
   ],
   "source": [
    "prob.solve(\n",
    "    result = result, \n",
    "    α = 0.2, \n",
    "    θ_start = [0., 0.], \n",
    "    θ_rtol = 0,\n",
    "    z_tol = 1e-1, \n",
    "    progress = True, \n",
    "    maxsteps = 10, \n",
    "    nsims = 64,\n",
    "    rng = jax.random.PRNGKey(1)\n",
    ");"
   ]
  },
  {
   "cell_type": "markdown",
   "metadata": {
    "id": "-MNYlr46jL5T"
   },
   "source": [
    "The norm of the MUSE marginal score approximation, i.e. the thing we're trying to zero. This should hopefully descrease until it reaches zero within some tolerance."
   ]
  },
  {
   "cell_type": "code",
   "execution_count": 24,
   "metadata": {
    "colab": {
     "base_uri": "https://localhost:8080/",
     "height": 289
    },
    "id": "830Pkm8kZLgC",
    "outputId": "89ba125a-e618-4d8e-d363-e939f5939467"
   },
   "outputs": [
    {
     "data": {
      "text/plain": [
       "(0.0, 5.679511662200094)"
      ]
     },
     "execution_count": 24,
     "metadata": {},
     "output_type": "execute_result"
    },
    {
     "data": {
      "image/png": "[encoded data removed]",
      "text/plain": [
       "<Figure size 432x288 with 1 Axes>"
      ]
     },
     "metadata": {
      "needs_background": "light"
     },
     "output_type": "display_data"
    }
   ],
   "source": [
    "plot([norm(h[\"s̃_post\"]) for h in result.history],\".-\")\n",
    "ylabel(r\"$|s^{\\rm MUSE}|$\")\n",
    "xlabel(\"step\")\n",
    "ylim(0)"
   ]
  },
  {
   "cell_type": "markdown",
   "metadata": {
    "id": "Rc_DofQGjGZI"
   },
   "source": [
    "Progression of $\\theta$ across steps. Should see this converge to somewhere.\n"
   ]
  },
  {
   "cell_type": "code",
   "execution_count": 25,
   "metadata": {
    "colab": {
     "base_uri": "https://localhost:8080/",
     "height": 289
    },
    "id": "NGSnYzQwZ1BJ",
    "outputId": "30985553-25e8-4876-f001-1225103e54ed"
   },
   "outputs": [
    {
     "data": {
      "text/plain": [
       "Text(0, 0.5, '$\\\\sigma_8$')"
      ]
     },
     "execution_count": 25,
     "metadata": {},
     "output_type": "execute_result"
    },
    {
     "data": {
      "image/png": "[encoded data removed]",
      "text/plain": [
       "<Figure size 432x288 with 1 Axes>"
      ]
     },
     "metadata": {
      "needs_background": "light"
     },
     "output_type": "display_data"
    }
   ],
   "source": [
    "# https://stackoverflow.com/a/66117937\n",
    "x,y = transpose([h[\"θ\"] for h in result.history])\n",
    "plt.plot(x,y,\"o\")\n",
    "ds = 0.003\n",
    "Ns = np.round(np.sqrt( (x[1:]-x[:-1])**2 + (y[1:]-y[:-1])**2 ) / ds).astype(int)\n",
    "subdiv = lambda x, Ns=Ns: np.concatenate([ np.linspace(x[ii], x[ii+1], Ns[ii]) for ii, _ in enumerate(x[:-1]) ])\n",
    "x, y = subdiv(x), subdiv(y)\n",
    "plt.quiver(x[:-1], y[:-1], x[1:]-x[:-1], y[1:]-y[:-1], scale_units='xy', angles='xy', scale=1, width=.004, headlength=6, headwidth=6)\n",
    "xlabel(r\"$\\omega_c$\")\n",
    "ylabel(r\"$\\sigma_8$\")"
   ]
  },
  {
   "cell_type": "code",
   "execution_count": null,
   "metadata": {},
   "outputs": [],
   "source": []
  }
 ],
 "metadata": {
  "accelerator": "GPU",
  "colab": {
   "collapsed_sections": [],
   "name": "TestMuse.ipynb",
   "provenance": [],
   "toc_visible": true
  },
  "interpreter": {
   "hash": "8a6e6ae1b2617ab648af4682d891456063576c0749f5f662aed96e6fca16feaa"
  },
  "kernelspec": {
   "display_name": "Python 3 (ipykernel)",
   "language": "python",
   "name": "python3"
  },
  "language_info": {
   "codemirror_mode": {
    "name": "ipython",
    "version": 3
   },
   "file_extension": ".py",
   "mimetype": "text/x-python",
   "name": "python",
   "nbconvert_exporter": "python",
   "pygments_lexer": "ipython3",
   "version": "3.10.5"
  },
  "widgets": {
   "application/vnd.jupyter.widget-state+json": {
    "state": {},
    "version_major": 2,
    "version_minor": 0
   }
  }
 },
 "nbformat": 4,
 "nbformat_minor": 4
}
